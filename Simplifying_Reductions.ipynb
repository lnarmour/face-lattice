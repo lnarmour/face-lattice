{
 "cells": [
  {
   "cell_type": "markdown",
   "id": "4bae8ae7",
   "metadata": {},
   "source": [
    "This entire notebook is just a sketch of how the recursive algorithm ought to behave. It uses the ISL python bindings and polylib to construct the face lattice.\n",
    "\n",
    "# Table of Contents\n",
    "\n",
    "* Helper functions\n",
    "* Actual algorithm\n",
    "* Manual example"
   ]
  },
  {
   "cell_type": "markdown",
   "id": "f1b9a8a1",
   "metadata": {},
   "source": [
    "# Helper functions"
   ]
  },
  {
   "cell_type": "code",
   "execution_count": 1,
   "id": "bc8ba272",
   "metadata": {
    "scrolled": false
   },
   "outputs": [],
   "source": [
    "from face_lattice import *   # this is my implementation of Loechner & Wilde's ScanFaces algorithm\n",
    "from islpy import *\n",
    "from functools import reduce"
   ]
  },
  {
   "cell_type": "markdown",
   "id": "3d0809fa",
   "metadata": {},
   "source": [
    "#### `inverse(op)`\n",
    "Given an operation `op`, return its inverse. This is just hardcoded with '+' and 'max' for now."
   ]
  },
  {
   "cell_type": "code",
   "execution_count": 2,
   "id": "4fc0a36d",
   "metadata": {
    "scrolled": false
   },
   "outputs": [],
   "source": [
    "def inverse(op):\n",
    "    store = {\n",
    "        '+': '-',\n",
    "        'max': None,\n",
    "        # ...\n",
    "    }\n",
    "    if op not in store:\n",
    "        raise Exception('Operator \"{}\" not supported yet.'.format(op))\n",
    "    return store[op]"
   ]
  },
  {
   "cell_type": "markdown",
   "id": "0402a4d4",
   "metadata": {},
   "source": [
    "#### `ker_from_map(f)`\n",
    "Given an ISL map `f`, return the ISL set of points in the null space of `f`"
   ]
  },
  {
   "cell_type": "code",
   "execution_count": 3,
   "id": "4d723caa",
   "metadata": {
    "scrolled": false
   },
   "outputs": [
    {
     "name": "stdout",
     "output_type": "stream",
     "text": [
      "ex1: { [i0, i1, i2] : i0 = 0 }\n",
      "ex2: { [i0, i1, i2] : i0 = 0 and i2 = 0 }\n",
      "ex3: { [i0, i1, i2] : i2 = -i0 }\n"
     ]
    }
   ],
   "source": [
    "def ker_from_map(f):\n",
    "    if type(f) == str:\n",
    "        f = BasicMap(f)\n",
    "    mat = []\n",
    "    for c in f.get_constraints():\n",
    "        vars = c.get_var_dict()\n",
    "        index_vals = [-1 * int(c.get_coefficient_val(v[0], v[1]).to_str()) for k, v in vars.items() if\n",
    "                      v[0] != dim_type.param]\n",
    "        mat.append(index_vals)\n",
    "    mat = np.array(mat)\n",
    "    \n",
    "    indices = ','.join(['i{}'.format(i) for i in range(len(mat[0, :]))])\n",
    "    constraints = []\n",
    "    for c in mat:\n",
    "        constraints.append(\n",
    "            '+'.join(['{}{}'.format(a[0], a[1]) for a in zip(c, indices.split(','))]) + '=0')\n",
    "    s = '{{[{}] : {}}}'.format(indices, ' and '.join(constraints))\n",
    "    return BasicSet(s)\n",
    "\n",
    "# examples\n",
    "print('ex1: {}'.format(ker_from_map('{[i,j,k]->[i]}')))\n",
    "print('ex2: {}'.format(ker_from_map('{[i,j,k]->[i,k]}')))\n",
    "print('ex3: {}'.format(ker_from_map('{[i,j,k]->[i+k]}')))"
   ]
  },
  {
   "cell_type": "markdown",
   "id": "bd3f842c",
   "metadata": {},
   "source": [
    "#### `ker_from_facet_normal(facet, C)`\n",
    "Given a facet `facet` (i.e., set of rows indices from `C` that are saturated), return the ISL set of points in the null space of the vector normal to the facet. \n",
    "\n",
    "For example, consider the $i=0$ face from the following set (3D cube),\n",
    "\n",
    "$$ \\{[i,j,k] : 0 \\le i,j,k \\le 100\\} $$\n",
    "\n",
    "The normal vector to the $i=0$ face is $[1,0,0]$ (and is equivalent to the vector representation of this constraint), therefore the null space is given by the set,\n",
    "\n",
    "$$ \\{[i,j,k] : i=0 \\} $$\n",
    "\n",
    "These are the points \"in the facet\"."
   ]
  },
  {
   "cell_type": "code",
   "execution_count": 4,
   "id": "cb3febf6",
   "metadata": {
    "scrolled": false
   },
   "outputs": [],
   "source": [
    "def ker_from_facet_normal(facet, C):\n",
    "    np_C = np.array(C)\n",
    "    mat = np_C[np.array(list(facet)),:-1]\n",
    "    indices = ','.join(['i{}'.format(i) for i in range(len(mat[0, :]))])\n",
    "    constraints = []\n",
    "    for c in mat:\n",
    "        constraints.append('+'.join(['{}{}'.format(a[0], a[1]) for a in zip(c, indices.split(','))]) + '=0')\n",
    "    s = '{{[{}] : {}}}'.format(indices, ' and '.join(constraints))\n",
    "    return BasicSet(s)"
   ]
  },
  {
   "cell_type": "markdown",
   "id": "679539dc",
   "metadata": {},
   "source": [
    "#### `is_strict(facet, fp, C)`\n",
    "Given a facet, represented by `facet` & `C`, and the projection function `fp`, determine whether the facet is considered a strict boundary. We'll call a facet a strict boundary if both of the following hold,\n",
    "\n",
    "$$ ker(f_{p}) \\cap ker(c) \\ne \\emptyset $$\n",
    "$$ ker(f_{p}) \\supseteq ker(c) $$"
   ]
  },
  {
   "cell_type": "code",
   "execution_count": 5,
   "id": "59260c23",
   "metadata": {
    "scrolled": false
   },
   "outputs": [],
   "source": [
    "def is_strict(facet, fp, C):\n",
    "    ker_c = ker_from_facet_normal(facet, C)\n",
    "    ker_fp = ker_from_map(fp)\n",
    "    return not ker_c.intersect(ker_fp).is_empty() and ker_fp.is_subset(ker_c)"
   ]
  },
  {
   "cell_type": "markdown",
   "id": "8426e375",
   "metadata": {},
   "source": [
    "#### `rho_from_labels(facets, C, labels, fd)`\n",
    "\n",
    "Given a labeling (i.e., list of labels `labels`) and dependence function `fd`, return a $\\rho$ that induces the labeling if possible. \n",
    "Each `facet` in `facets` is a set of indices of `C` that when saturated, describe the facet.\n",
    "Each `label` in `labels` is either the string 'ADD', 'INV', or 'SUB' (if operator admits an inverse).\n",
    "\n",
    "For example, if `facets = [{0,1},{0,2},{0,4}]` and `labels = ['ADD','ADD','INV']`, then the set that satifies the following constraints constitues the feasible space of valid $\\rho$,\n",
    "\n",
    "$$ \\rho \\cdot c_{0} > 0 $$\n",
    "$$ \\rho \\cdot c_{1} > 0 $$\n",
    "$$ \\rho \\cdot c_{2} = 0 $$\n",
    "\n",
    "where $c_{i}$ denotes the normal vector of the $i$'th facet. Here $i=0$ corresponds to `facets[0]`, or constraints 0 and 1 from `C`. And $i=1$ denotes `facets[1]` or constraints 0 and 2. The conditions '>', '=', or '<' are chosen based on the labels 'ADD', 'INV', and 'SUB' respectively. Additionally, $\\rho$ must be in the null space of the dependence function `fd`.\n",
    "\n",
    "If this set is not trivially empty then we conclude that the labeling is valid. Any $\\rho$ in the set is a valid $\\rho$ that induces these labels, and we can just select the first choice (via lexmin or lexmax). Otherwise it returns None."
   ]
  },
  {
   "cell_type": "code",
   "execution_count": 6,
   "id": "88d9c9fa",
   "metadata": {
    "scrolled": false
   },
   "outputs": [],
   "source": [
    "def rho_from_labels(facets, C, labels, fd):\n",
    "    map = {'ADD': '>', 'INV': '=', 'SUB': '<'}\n",
    "    bsets = list()\n",
    "\n",
    "    # must be in ker(fd)\n",
    "    bsets.append(ker_from_map(fd))\n",
    "\n",
    "    for facet, label in zip(facets, labels):\n",
    "        # select constraints representing this face, and create the set according to its label\n",
    "        mat = C[np.array(list(facet)),:-1]\n",
    "        indices = ','.join(['i{}'.format(i) for i in range(len(mat[0, :]))])\n",
    "        constraints = []\n",
    "        for c in mat:\n",
    "            constraints.append(\n",
    "                '+'.join(['{}{}'.format(a[0], a[1]) for a in zip(c, indices.split(','))]) + '{}0'.format(map[label]))\n",
    "        s = '{{[{}] : {}}}'.format(indices, ' and '.join(constraints))\n",
    "        bsets.append(BasicSet(s))\n",
    "\n",
    "    # check that it's not trivially just the origin\n",
    "    origin = BasicSet('{{[{}]}}'.format(('0,'*(C.shape[1]-1))[:-1]))\n",
    "    result = reduce(lambda s0,s1: s0.intersect(s1), bsets)\n",
    "\n",
    "    feasible_rho = result - origin\n",
    "\n",
    "    if feasible_rho.is_empty():\n",
    "        return None\n",
    "\n",
    "    rho = list()\n",
    "    # either lexmin or lexmax, not sure yet how to determine upfront which one to use, so for now just try both\n",
    "    funcs = [feasible_rho.lexmin, feasible_rho.lexmax]\n",
    "    for func in funcs:\n",
    "        try:\n",
    "            func().foreach_point(rho.append)\n",
    "        except Exception:\n",
    "            continue\n",
    "        finally:\n",
    "            if rho:\n",
    "                break\n",
    "\n",
    "    return rho[0]"
   ]
  },
  {
   "cell_type": "markdown",
   "id": "17e3b01d",
   "metadata": {},
   "source": [
    "#### `enumerate_labels(facets, labels)`\n",
    "At each node in the face lattice, there are one or more facets that we potentially need to recurse into. This function just enumerates all possible labelings given the set of facets and the set of possible labels. If we have 4 facets and 3 possible labels, then there are $3^{4}$ combinations of labels."
   ]
  },
  {
   "cell_type": "code",
   "execution_count": 7,
   "id": "894db054",
   "metadata": {
    "scrolled": false
   },
   "outputs": [
    {
     "name": "stdout",
     "output_type": "stream",
     "text": [
      "['ADD', 'ADD', 'ADD']\n",
      "['ADD', 'ADD', 'INV']\n",
      "['ADD', 'INV', 'ADD']\n",
      "['ADD', 'INV', 'INV']\n",
      "['INV', 'ADD', 'ADD']\n",
      "['INV', 'ADD', 'INV']\n",
      "['INV', 'INV', 'ADD']\n",
      "['INV', 'INV', 'INV']\n"
     ]
    }
   ],
   "source": [
    "# convert base-10 number n to base-d\n",
    "def d_ary(d, n):\n",
    "    if n == 0:\n",
    "        return '0'\n",
    "    nums = []\n",
    "    while n:\n",
    "        n, r = divmod(n, d)\n",
    "        nums.append(str(r))\n",
    "    return ''.join(reversed(nums))\n",
    "\n",
    "LABEL = {\n",
    "    0: 'ADD',\n",
    "    1: 'INV',\n",
    "    2: 'SUB'\n",
    "}\n",
    "\n",
    "def enumerate_labels(facets, labels):\n",
    "    num_labels = len(labels)\n",
    "    num_facets = len(facets)\n",
    "    for i in range(num_labels ** num_facets):\n",
    "        labels = [LABEL[int(d_ary(num_labels, i).zfill(num_facets)[j])] for j in range(num_facets)]\n",
    "        yield labels\n",
    "\n",
    "# example, all possible combos of 3 facets with 2 labels (8 combos total)\n",
    "for labeling in enumerate_labels([{0},{1},{2}] , ['ADD','INV']):\n",
    "    print(labeling)"
   ]
  },
  {
   "cell_type": "markdown",
   "id": "a1f22898",
   "metadata": {},
   "source": [
    "# Recursive Algorithm"
   ]
  },
  {
   "cell_type": "markdown",
   "id": "518e299c",
   "metadata": {},
   "source": [
    "Initial setup given an input reduction expression $R$ with body $E$,\n",
    "\n",
    "* Compute the context domain `s` of the reduction body\n",
    "* Construct the face lattice `lattice` from `s`\n",
    "* Initialize `fp` to the projection function of $R$\n",
    "* Let `k` denote the remaining number of dimensions of reuse available, initialize to the rank of the null space of the depdence function `fd` present in the expression $E$ of the reduction body\n",
    "* Initialize `node` to the root node in the face lattice\n",
    "* Call `simplify(k, fp, fd, node, lattice, C, legal_labels)`, (see below for descriptions of `C` and `legal_labels`)\n",
    "\n",
    "Define `simplify(k, fp, fd, node, lattice, C, legal_labels` where,\n",
    "* `k`, `fp`, `node`, and `lattice` are initialized as described above\n",
    "* `C` is the constraints matrix of the set `s`\n",
    "* `legal_labels` is either ['ADD','INV','SUB'] or ['ADD','INV'] if the reduction operation does or does not admit an inverse, respectively\n",
    "\n",
    "1. if `k == 0`, then return SUCCESS\n",
    "1. For each facet of the current node in the lattice, label as either as 'strict' or 'weak' boundary given `fp`\n",
    "1. Construct the list of candidate facets that potentially need to be recursed into, these are the non-strict facets\n",
    "1. Enumerate all possible labelings and for each, construct the feasible space of legal reuse vectors $\\rho$ (see `rho_from_labels` above). If the space for a particular labeling is empty, then conclude that the labeling is impossible. If at least one labeling is possible then continue, else return FAILURE.\n",
    "1. For all possible labelings, recurse into each 'ADD' facet with $k-1$ (to indicate that there is one less dimension of reuse avilable. For a given labeling, if the recursion into all facets is successful then save the labeling as successful. As long as we check all possible labelings at a given label, then we don't need to backtrack.\n",
    "1. If at least one labeling was successful then return SUCCESS and the set of all successful labelings else return FAILURE"
   ]
  },
  {
   "cell_type": "code",
   "execution_count": 8,
   "id": "325a6e66",
   "metadata": {
    "scrolled": false
   },
   "outputs": [],
   "source": [
    "def simplify(k=None, fp_str=None, fd_str=None, node=None, lattice=None, C=None, legal_labels=None):\n",
    "    \n",
    "    print('STEP 1 - if k==0 return else continue. k={}'.format(k))\n",
    "    if k == 0:\n",
    "        return True\n",
    "    print()\n",
    "    \n",
    "    fp = BasicMap(fp_str)\n",
    "    fd = BasicMap(fd_str)\n",
    "\n",
    "    print('node = {}'.format(set(node)))\n",
    "    print('fp = {}'.format(fp_str))\n",
    "    print('fd = {}'.format(fd_str))\n",
    "    print()\n",
    "\n",
    "    print('STEP 2 - for each child face in node, label as \"weak\" or \"strict\" given fp\\n')\n",
    "    facets = list(lattice.graph.neighbors(node))\n",
    "    for facet in facets:\n",
    "        facet = set(facet)\n",
    "        label = 'strict' if is_strict(facet, fp, C) else 'weak'\n",
    "        print(facet, label)\n",
    "    print()\n",
    "\n",
    "    print('STEP 3 - construct candidate facets (i.e., non-strict facets)\\n')\n",
    "    candidate_facets = [facet for facet in facets if not is_strict(facet, fp, C)]\n",
    "    print('candidate_facets = {}'.format([set(cf) for cf in candidate_facets]))\n",
    "    print()\n",
    "\n",
    "    print('STEP 4 - determine all possible combos\\n')\n",
    "\n",
    "    label_combos = list()\n",
    "    header = ['{}'.format(set(f)) for f in candidate_facets]\n",
    "    print(header)\n",
    "    print('-' * len(str(header)))\n",
    "    for labels in enumerate_labels(candidate_facets, legal_labels):\n",
    "        rho = rho_from_labels(candidate_facets, C, labels, fd)\n",
    "        if rho:\n",
    "            label_combos.append(labels + [rho])\n",
    "            print('{}  possible -> rho = {}'.format(labels, rho))\n",
    "        else:\n",
    "            print('{}  impossible'.format(labels))\n",
    "    print()\n",
    "    \n",
    "    if not label_combos:\n",
    "        print('FAILURE')\n",
    "        return False\n",
    "\n",
    "    print('STEP 4 - recurse into each \"ADD\" facet\\n')\n",
    "    print('todo - actually implement the recursive calls')"
   ]
  },
  {
   "cell_type": "markdown",
   "id": "eae7c198",
   "metadata": {},
   "source": [
    "# Example\n",
    "\n",
    "Take the following AlphaZ program (based on Firgure-2 from the 2006 paper, also the second example from the slides):\n",
    "\n",
    "```\n",
    "affine SR {N|}\n",
    "input\n",
    "\tfloat X {i,j | 1<=i,j<=100};\n",
    "output\n",
    "\tfloat Y {i | 1<=i<=100};\n",
    "let\n",
    "\tY[i] = reduce(max, (i,j,k->i), {| 1<=j<=i && 1<=k<=100-i } : (i,j,k->j,k)@X);\n",
    ".\n",
    "```\n",
    "\n",
    "It has the following operator (op), projection function ($f_{p}$), body context domain (s) given be AlphaZ, and dependence function ($f_{d}$):"
   ]
  },
  {
   "cell_type": "code",
   "execution_count": 9,
   "id": "9cf348ca",
   "metadata": {
    "scrolled": false
   },
   "outputs": [],
   "source": [
    "op='max'\n",
    "fp='{[i,j,k]->[i]}'\n",
    "s='{[i,j,k] : j>=1 and i>=j and k>=1 and 0>=i+k-100 and 0>=k-100 and 0>=j-100 and 0>=i-99 and i>=1}'\n",
    "fd='{[i,j,k]->[j,k]}'"
   ]
  },
  {
   "cell_type": "markdown",
   "id": "9990ff4c",
   "metadata": {},
   "source": [
    "### Step 1 - construct the face lattice\n"
   ]
  },
  {
   "cell_type": "code",
   "execution_count": 10,
   "id": "025ac3f7",
   "metadata": {
    "scrolled": false
   },
   "outputs": [
    {
     "name": "stdout",
     "output_type": "stream",
     "text": [
      "{[i,j,k] : j>=1 and i>=j and k>=1 and 0>=i+k-100 and 0>=k-100 and 0>=j-100 and 0>=i-99 and i>=1}\n",
      "\n",
      "C_hat (constraints):\n",
      "[[  1  -1   0   0]\t\t{ [i, j, k] : i - j >= 0 }\n",
      " [  0   0   1  -1]\t\t{ [i, j, k] : -1 + k >= 0 }\n",
      " [  0   1   0  -1]\t\t{ [i, j, k] : -1 + j >= 0 }\n",
      " [ -1   0  -1 100]\t\t{ [i, j, k] : 100 - i - k >= 0 }\n",
      " [  0   0   0   1]]\t\t\n",
      "\n",
      "R_hat (rays/vertices):\n",
      "[[ 1 99  1 99]\n",
      " [ 1 99  1  1]\n",
      " [ 1  1 99  1]\n",
      " [ 1  1  1  1]]\n",
      "\n",
      "Dimension:\n",
      "3\n",
      "\n",
      "3-faces: [{}]\n",
      "2-faces: [{0}, {1}, {2}, {3}]\n",
      "1-faces: [{0, 1}, {0, 2}, {0, 3}, {1, 2}, {1, 3}, {2, 3}]\n",
      "0-faces: [{0, 1, 2}, {0, 1, 3}, {0, 2, 3}, {1, 2, 3}]\n",
      "\n"
     ]
    }
   ],
   "source": [
    "C, lattice, bset, dim_P = face_lattice(s)"
   ]
  },
  {
   "cell_type": "markdown",
   "id": "4f3a9be9",
   "metadata": {},
   "source": [
    "### Step 2\n",
    "Determine the set of legal labels based on whether or not the operator admits an inverse"
   ]
  },
  {
   "cell_type": "code",
   "execution_count": 11,
   "id": "12e84ce0",
   "metadata": {
    "scrolled": false
   },
   "outputs": [
    {
     "name": "stdout",
     "output_type": "stream",
     "text": [
      "op = max\n",
      "['ADD', 'INV']\n"
     ]
    }
   ],
   "source": [
    "legal_labels = ['ADD', 'INV']\n",
    "if inverse(op):\n",
    "    legal_labels.append('SUB')\n",
    "       \n",
    "print('op = {}'.format(op))\n",
    "print(legal_labels)"
   ]
  },
  {
   "cell_type": "markdown",
   "id": "535dbce8",
   "metadata": {},
   "source": [
    "### Step 3\n",
    "Get the root node from the lattice"
   ]
  },
  {
   "cell_type": "code",
   "execution_count": 12,
   "id": "382d22db",
   "metadata": {
    "scrolled": false
   },
   "outputs": [
    {
     "name": "stdout",
     "output_type": "stream",
     "text": [
      "set()\n"
     ]
    }
   ],
   "source": [
    "root = lattice.get_root()\n",
    "print(set(root))"
   ]
  },
  {
   "cell_type": "markdown",
   "id": "9651e6de",
   "metadata": {},
   "source": [
    "### Step 4\n",
    "Start the recursion at the root node"
   ]
  },
  {
   "cell_type": "code",
   "execution_count": 13,
   "id": "d2c64a2c",
   "metadata": {
    "scrolled": false
   },
   "outputs": [
    {
     "name": "stdout",
     "output_type": "stream",
     "text": [
      "STEP 1 - if k==0 return else continue. k=2\n",
      "\n",
      "node = set()\n",
      "fp = {[i,j,k]->[i]}\n",
      "fd = {[i,j,k]->[j,k]}\n",
      "\n",
      "STEP 2 - for each child face in node, label as \"weak\" or \"strict\" given fp\n",
      "\n",
      "{0} weak\n",
      "{1} weak\n",
      "{2} weak\n",
      "{3} weak\n",
      "\n",
      "STEP 3 - construct candidate facets (i.e., non-strict facets)\n",
      "\n",
      "candidate_facets = [{0}, {1}, {2}, {3}]\n",
      "\n",
      "STEP 4 - determine all possible combos\n",
      "\n",
      "['{0}', '{1}', '{2}', '{3}']\n",
      "----------------------------\n",
      "['ADD', 'ADD', 'ADD', 'ADD']  impossible\n",
      "['ADD', 'ADD', 'ADD', 'INV']  impossible\n",
      "['ADD', 'ADD', 'INV', 'ADD']  impossible\n",
      "['ADD', 'ADD', 'INV', 'INV']  impossible\n",
      "['ADD', 'INV', 'ADD', 'ADD']  impossible\n",
      "['ADD', 'INV', 'ADD', 'INV']  impossible\n",
      "['ADD', 'INV', 'INV', 'ADD']  impossible\n",
      "['ADD', 'INV', 'INV', 'INV']  impossible\n",
      "['INV', 'ADD', 'ADD', 'ADD']  impossible\n",
      "['INV', 'ADD', 'ADD', 'INV']  impossible\n",
      "['INV', 'ADD', 'INV', 'ADD']  impossible\n",
      "['INV', 'ADD', 'INV', 'INV']  impossible\n",
      "['INV', 'INV', 'ADD', 'ADD']  impossible\n",
      "['INV', 'INV', 'ADD', 'INV']  impossible\n",
      "['INV', 'INV', 'INV', 'ADD']  impossible\n",
      "['INV', 'INV', 'INV', 'INV']  impossible\n",
      "\n",
      "FAILURE\n"
     ]
    },
    {
     "data": {
      "text/plain": [
       "False"
      ]
     },
     "execution_count": 13,
     "metadata": {},
     "output_type": "execute_result"
    }
   ],
   "source": [
    "simplify(k=2, fp_str=fp, fd_str=fd, node=root, lattice=lattice, C=C, legal_labels=legal_labels)"
   ]
  },
  {
   "cell_type": "markdown",
   "id": "551efcad",
   "metadata": {},
   "source": [
    "We see this doesn't work, because there are no possible labeling. If we decompose the reduction first, so that the projection function.\n",
    "\n",
    "Choose $f = f_{1} \\circ f_{2}$, where,\n",
    "\n",
    "$$ f_{1} = \\{[i,k] \\rightarrow [i]\\} $$\n",
    "$$ f_{2} = \\{[i,j,k] \\rightarrow [i,k]\\} $$\n",
    "\n",
    "like this below, we see this works because what used to weak boundaries now become strict boundaries, and some of the strict boundaries can be ignored..."
   ]
  },
  {
   "cell_type": "code",
   "execution_count": 14,
   "id": "0bdabe2c",
   "metadata": {},
   "outputs": [],
   "source": [
    "fp2 = '{[i,j,k]->[i,k]}'"
   ]
  },
  {
   "cell_type": "code",
   "execution_count": 15,
   "id": "350a83eb",
   "metadata": {
    "scrolled": false
   },
   "outputs": [
    {
     "name": "stdout",
     "output_type": "stream",
     "text": [
      "STEP 1 - if k==0 return else continue. k=2\n",
      "\n",
      "node = set()\n",
      "fp = {[i,j,k]->[i,k]}\n",
      "fd = {[i,j,k]->[j,k]}\n",
      "\n",
      "STEP 2 - for each child face in node, label as \"weak\" or \"strict\" given fp\n",
      "\n",
      "{0} weak\n",
      "{1} strict\n",
      "{2} weak\n",
      "{3} strict\n",
      "\n",
      "STEP 3 - construct candidate facets (i.e., non-strict facets)\n",
      "\n",
      "candidate_facets = [{0}, {2}]\n",
      "\n",
      "STEP 4 - determine all possible combos\n",
      "\n",
      "['{0}', '{2}']\n",
      "--------------\n",
      "['ADD', 'ADD']  impossible\n",
      "['ADD', 'INV']  possible -> rho = { [1, 0, 0] }\n",
      "['INV', 'ADD']  impossible\n",
      "['INV', 'INV']  impossible\n",
      "\n",
      "STEP 4 - recurse into each \"ADD\" facet\n",
      "\n",
      "todo - actually implement the recursive calls\n"
     ]
    }
   ],
   "source": [
    "simplify(k=2, fp_str=fp2, fd_str=fd, node=root, lattice=lattice, C=C, legal_labels=legal_labels)"
   ]
  },
  {
   "cell_type": "markdown",
   "id": "5847dd42",
   "metadata": {
    "scrolled": true
   },
   "source": [
    "What used to be weak boundary facets now become strict under the inner projection function $\\{[i,j,k] \\rightarrow [i,k]\\}$. I still need to actually implement the recursive part, but in this case, I can manually just call simplify on the facet {0} for the only possible labeling.\n",
    "\n",
    "It should look something like this below, though there are some issues with the below. It fails at this level when I would expect it not to. I'm still working through some things here."
   ]
  },
  {
   "cell_type": "code",
   "execution_count": 16,
   "id": "a1fcb8c0",
   "metadata": {},
   "outputs": [
    {
     "name": "stdout",
     "output_type": "stream",
     "text": [
      "STEP 1 - if k==0 return else continue. k=1\n",
      "\n",
      "node = {0}\n",
      "fp = {[i,j,k]->[i,k]}\n",
      "fd = {[i,j,k]->[j,k]}\n",
      "\n",
      "STEP 2 - for each child face in node, label as \"weak\" or \"strict\" given fp\n",
      "\n",
      "{0, 1} weak\n",
      "{0, 2} weak\n",
      "{0, 3} weak\n",
      "\n",
      "STEP 3 - construct candidate facets (i.e., non-strict facets)\n",
      "\n",
      "candidate_facets = [{0, 1}, {0, 2}, {0, 3}]\n",
      "\n",
      "STEP 4 - determine all possible combos\n",
      "\n",
      "['{0, 1}', '{0, 2}', '{0, 3}']\n",
      "------------------------------\n",
      "['ADD', 'ADD', 'ADD']  impossible\n",
      "['ADD', 'ADD', 'INV']  impossible\n",
      "['ADD', 'INV', 'ADD']  impossible\n",
      "['ADD', 'INV', 'INV']  impossible\n",
      "['INV', 'ADD', 'ADD']  impossible\n",
      "['INV', 'ADD', 'INV']  impossible\n",
      "['INV', 'INV', 'ADD']  impossible\n",
      "['INV', 'INV', 'INV']  impossible\n",
      "\n",
      "FAILURE\n"
     ]
    },
    {
     "data": {
      "text/plain": [
       "False"
      ]
     },
     "execution_count": 16,
     "metadata": {},
     "output_type": "execute_result"
    }
   ],
   "source": [
    "node = list(lattice.graph.neighbors(root))[0]\n",
    "\n",
    "simplify(k=1, fp_str=fp2, fd_str=fd, node=node, lattice=lattice, C=C, legal_labels=legal_labels)"
   ]
  },
  {
   "cell_type": "code",
   "execution_count": null,
   "id": "26d6ae2f",
   "metadata": {},
   "outputs": [],
   "source": []
  }
 ],
 "metadata": {
  "kernelspec": {
   "display_name": "Python 3",
   "language": "python",
   "name": "python3"
  },
  "language_info": {
   "codemirror_mode": {
    "name": "ipython",
    "version": 3
   },
   "file_extension": ".py",
   "mimetype": "text/x-python",
   "name": "python",
   "nbconvert_exporter": "python",
   "pygments_lexer": "ipython3",
   "version": "3.6.4"
  }
 },
 "nbformat": 4,
 "nbformat_minor": 5
}
